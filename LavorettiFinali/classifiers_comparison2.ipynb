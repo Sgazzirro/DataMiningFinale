{
 "cells": [
  {
   "cell_type": "code",
   "execution_count": 1,
   "metadata": {
    "collapsed": true
   },
   "outputs": [],
   "source": [
    "import pandas as pd\n",
    "from imblearn.pipeline import Pipeline\n",
    "from imblearn.over_sampling import SMOTE\n",
    "from sklearn.feature_selection import SelectKBest\n",
    "from sklearn.preprocessing import RobustScaler\n",
    "from sklearn.neighbors import KNeighborsClassifier\n",
    "from sklearn.model_selection import KFold\n",
    "from sklearn.model_selection import cross_validate\n",
    "from sklearn.metrics import make_scorer, f1_score, recall_score, precision_score, accuracy_score\n",
    "import numpy as np\n",
    "import sys\n",
    "sys.path.append(\"creation_functions\")\n",
    "from creation_functions.utilities import create_time_series, preprocessing, custom_cross_validation"
   ]
  },
  {
   "cell_type": "code",
   "execution_count": 2,
   "outputs": [],
   "source": [
    "non_corr_df = preprocessing(pd.read_csv(\"collapsed_dataset.csv\", index_col=0))\n",
    "\n",
    "X=non_corr_df.drop([\"class\", \"trial\", \"subject\"], axis=1)\n",
    "y=non_corr_df[\"class\"]\n",
    "\n",
    "K_FEATURES = 40"
   ],
   "metadata": {
    "collapsed": false
   }
  },
  {
   "cell_type": "code",
   "execution_count": 3,
   "outputs": [
    {
     "ename": "ValueError",
     "evalue": "not enough values to unpack (expected 4, got 3)",
     "output_type": "error",
     "traceback": [
      "\u001B[1;31m---------------------------------------------------------------------------\u001B[0m",
      "\u001B[1;31mValueError\u001B[0m                                Traceback (most recent call last)",
      "Input \u001B[1;32mIn [3]\u001B[0m, in \u001B[0;36m<cell line: 8>\u001B[1;34m()\u001B[0m\n\u001B[0;32m      1\u001B[0m knn_pipe\u001B[38;5;241m=\u001B[39mPipeline([\n\u001B[0;32m      2\u001B[0m     (\u001B[38;5;124m\"\u001B[39m\u001B[38;5;124mscaler\u001B[39m\u001B[38;5;124m\"\u001B[39m, RobustScaler()),\n\u001B[0;32m      3\u001B[0m     (\u001B[38;5;124m\"\u001B[39m\u001B[38;5;124msampling\u001B[39m\u001B[38;5;124m\"\u001B[39m, SMOTE()),\n\u001B[0;32m      4\u001B[0m     (\u001B[38;5;124m\"\u001B[39m\u001B[38;5;124mfeature-selector\u001B[39m\u001B[38;5;124m\"\u001B[39m, SelectKBest(k\u001B[38;5;241m=\u001B[39mK_FEATURES)),\n\u001B[0;32m      5\u001B[0m     (\u001B[38;5;124m\"\u001B[39m\u001B[38;5;124mclassifier\u001B[39m\u001B[38;5;124m\"\u001B[39m, KNeighborsClassifier(n_neighbors\u001B[38;5;241m=\u001B[39m\u001B[38;5;241m5\u001B[39m))\n\u001B[0;32m      6\u001B[0m ])\n\u001B[1;32m----> 8\u001B[0m permutation, true_labels, predicted_labels, res \u001B[38;5;241m=\u001B[39m custom_cross_validation(non_corr_df, knn_pipe)\n\u001B[0;32m     10\u001B[0m knn_results\u001B[38;5;241m=\u001B[39m{\u001B[38;5;124m'\u001B[39m\u001B[38;5;124mprecision\u001B[39m\u001B[38;5;124m'\u001B[39m: res[\u001B[38;5;124m'\u001B[39m\u001B[38;5;124mtest_precision\u001B[39m\u001B[38;5;124m'\u001B[39m]\u001B[38;5;241m.\u001B[39mmean(), \u001B[38;5;124m'\u001B[39m\u001B[38;5;124mrecall\u001B[39m\u001B[38;5;124m'\u001B[39m: res[\u001B[38;5;124m\"\u001B[39m\u001B[38;5;124mtest_recall\u001B[39m\u001B[38;5;124m\"\u001B[39m]\u001B[38;5;241m.\u001B[39mmean(), \u001B[38;5;124m\"\u001B[39m\u001B[38;5;124mf1\u001B[39m\u001B[38;5;124m\"\u001B[39m:res[\u001B[38;5;124m'\u001B[39m\u001B[38;5;124mtest_f1score\u001B[39m\u001B[38;5;124m'\u001B[39m]\u001B[38;5;241m.\u001B[39mmean()}\n\u001B[0;32m     11\u001B[0m \u001B[38;5;28mprint\u001B[39m(knn_results)\n",
      "\u001B[1;31mValueError\u001B[0m: not enough values to unpack (expected 4, got 3)"
     ]
    }
   ],
   "source": [
    "knn_pipe=Pipeline([\n",
    "    (\"scaler\", RobustScaler()),\n",
    "    (\"sampling\", SMOTE()),\n",
    "    (\"feature-selector\", SelectKBest(k=K_FEATURES)),\n",
    "    (\"classifier\", KNeighborsClassifier(n_neighbors=5))\n",
    "])\n",
    "\n",
    "permutation, true_labels, predicted_labels, res = custom_cross_validation(non_corr_df, knn_pipe)\n",
    "\n",
    "knn_results={'precision': res['test_precision'].mean(), 'recall': res[\"test_recall\"].mean(), \"f1\":res['test_f1score'].mean()}\n",
    "print(knn_results)"
   ],
   "metadata": {
    "collapsed": false
   }
  }
 ],
 "metadata": {
  "kernelspec": {
   "display_name": "Python 3",
   "language": "python",
   "name": "python3"
  },
  "language_info": {
   "codemirror_mode": {
    "name": "ipython",
    "version": 2
   },
   "file_extension": ".py",
   "mimetype": "text/x-python",
   "name": "python",
   "nbconvert_exporter": "python",
   "pygments_lexer": "ipython2",
   "version": "2.7.6"
  }
 },
 "nbformat": 4,
 "nbformat_minor": 0
}
