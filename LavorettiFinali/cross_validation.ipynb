{
 "cells": [
  {
   "cell_type": "code",
   "execution_count": 1,
   "metadata": {
    "collapsed": true
   },
   "outputs": [],
   "source": [
    "import sys\n",
    "sys.path.append(\"creation_functions\")"
   ]
  },
  {
   "cell_type": "markdown",
   "source": [
    "### Notebook Goals\n",
    "- Try to understand how to implement a \"leave-one-out\" technique based on subjects\n",
    "- Test and compare a classifier performance without this custom cross validation and the normal shuffling"
   ],
   "metadata": {
    "collapsed": false
   }
  },
  {
   "cell_type": "code",
   "execution_count": 2,
   "outputs": [],
   "source": [
    "from creation_functions.utilities import preprocessing\n",
    "import pandas as pd\n",
    "import numpy as np"
   ],
   "metadata": {
    "collapsed": false
   }
  },
  {
   "cell_type": "code",
   "execution_count": 3,
   "outputs": [
    {
     "name": "stderr",
     "output_type": "stream",
     "text": [
      "C:\\Users\\marco\\Desktop\\università\\magistrale\\data mining and machine learning\\project_final\\LavorettiFinali\\creation_functions\\utilities.py:53: FutureWarning: The default value of numeric_only in DataFrame.corr is deprecated. In a future version, it will default to False. Select only valid columns or specify the value of numeric_only to silence this warning.\n",
      "  corr_matrix = only_numeric_dataset.corr().abs()\n"
     ]
    }
   ],
   "source": [
    "prepr_dataset = preprocessing(pd.read_csv(\"collapsed_dataset.csv\", index_col=0))[0]\n",
    "prepr_dataset = prepr_dataset.sample(frac=1)"
   ],
   "metadata": {
    "collapsed": false
   }
  },
  {
   "cell_type": "code",
   "execution_count": 4,
   "outputs": [],
   "source": [
    "from imblearn.over_sampling import SMOTE\n",
    "from imblearn.pipeline import Pipeline\n",
    "from sklearn.preprocessing import RobustScaler\n",
    "from sklearn.feature_selection import SelectKBest\n",
    "from sklearn.metrics import accuracy_score, f1_score, make_scorer\n",
    "from sklearn.model_selection import cross_validate, KFold\n",
    "from sklearn.ensemble import RandomForestClassifier"
   ],
   "metadata": {
    "collapsed": false
   }
  },
  {
   "cell_type": "code",
   "execution_count": 5,
   "outputs": [],
   "source": [
    "def get_a_split(dataframe, who_to_leave_out):\n",
    "    train_data = dataframe.loc[dataframe[\"subject\"] != who_to_leave_out]\n",
    "    test_data = dataframe.loc[dataframe[\"subject\"] == who_to_leave_out]\n",
    "    train_labels = train_data[\"class\"]\n",
    "    test_labels = test_data[\"class\"]\n",
    "    train_data = train_data.drop([\"class\", \"subject\", \"trial\"], axis=1)\n",
    "    test_data = test_data.drop([\"class\", \"subject\", \"trial\"], axis=1)\n",
    "    return train_data, test_data, train_labels, test_labels"
   ],
   "metadata": {
    "collapsed": false
   }
  },
  {
   "cell_type": "code",
   "execution_count": 6,
   "outputs": [],
   "source": [
    "def custom_cross_validation(dataframe, classifier):\n",
    "    a = range(1, 25)\n",
    "    permutation = np.random.permutation(a)\n",
    "    y_pred = []\n",
    "    y_true = []\n",
    "    for i in permutation:\n",
    "        X_train, X_test, y_train, y_test = get_a_split(dataframe,i)\n",
    "        y_true.append(y_test)\n",
    "        classifier.fit(X_train, y_train)\n",
    "        y_pred.append(classifier.predict(X_test))\n",
    "    return permutation, y_true, y_pred"
   ],
   "metadata": {
    "collapsed": false
   }
  },
  {
   "cell_type": "code",
   "execution_count": 7,
   "outputs": [],
   "source": [
    "steps = [\n",
    "    (\"scaler\", RobustScaler()),\n",
    "    (\"sampler\", SMOTE()),\n",
    "    (\"selection\", SelectKBest(k=40)),\n",
    "    (\"classification\", RandomForestClassifier())\n",
    "]\n",
    "pipeline = Pipeline(steps)"
   ],
   "metadata": {
    "collapsed": false
   }
  },
  {
   "cell_type": "code",
   "execution_count": 8,
   "outputs": [],
   "source": [
    "results = cross_validate(\n",
    "    pipeline,\n",
    "    prepr_dataset.drop([\"class\", \"trial\", \"subject\"], axis=1),\n",
    "    prepr_dataset[\"class\"],\n",
    "    cv = KFold(shuffle=True, random_state=15, n_splits=10),\n",
    "    scoring={\n",
    "        \"accuracy\" : make_scorer(accuracy_score),\n",
    "        \"f1-score\" : make_scorer(f1_score, average=\"weighted\")\n",
    "    },\n",
    "    return_estimator=True\n",
    ")"
   ],
   "metadata": {
    "collapsed": false
   }
  },
  {
   "cell_type": "code",
   "execution_count": 9,
   "outputs": [
    {
     "name": "stdout",
     "output_type": "stream",
     "text": [
      "Mean Accuracy with normal Cross Validation: 0.975946232033771\n"
     ]
    }
   ],
   "source": [
    "print(f'Mean Accuracy with normal Cross Validation: {results[\"test_accuracy\"].mean()}')"
   ],
   "metadata": {
    "collapsed": false
   }
  },
  {
   "cell_type": "code",
   "execution_count": 10,
   "outputs": [
    {
     "name": "stdout",
     "output_type": "stream",
     "text": [
      "Mean f1-score with normal Cross Validation: 0.9759174181101429\n"
     ]
    }
   ],
   "source": [
    "print(f'Mean f1-score with normal Cross Validation: {results[\"test_f1-score\"].mean()}')"
   ],
   "metadata": {
    "collapsed": false
   }
  },
  {
   "cell_type": "markdown",
   "source": [
    "In this type of applications it could be more appropriate to split the dataset on \"subjects\" instead of considering instances as independent from each other. Even if the accuracy in this way appears to be really high (over 92% with just < 30% of the total number of features), we are allowing to have a strange combination of events: a subject can be considered both in train and in test set. That means that we have a risk of overfitting, because the model could just \"see\" all subjects in advance and \"overtrain\" on all of them."
   ],
   "metadata": {
    "collapsed": false
   }
  },
  {
   "cell_type": "markdown",
   "source": [
    "In the following cells, we try to discover if keeping apart an entire subject affects the accuracy of the classifier."
   ],
   "metadata": {
    "collapsed": false
   }
  },
  {
   "cell_type": "code",
   "execution_count": 11,
   "outputs": [],
   "source": [
    "permutation, true_labels, predicted_labels = custom_cross_validation(prepr_dataset, pipeline)"
   ],
   "metadata": {
    "collapsed": false
   }
  },
  {
   "cell_type": "code",
   "execution_count": 12,
   "outputs": [
    {
     "name": "stderr",
     "output_type": "stream",
     "text": [
      "C:\\Users\\marco\\AppData\\Local\\Temp\\ipykernel_876\\322893607.py:6: FutureWarning: The frame.append method is deprecated and will be removed from pandas in a future version. Use pandas.concat instead.\n",
      "  metrics = metrics.append({\"accuracy\" : accuracy_score(true_labels[i], predicted_labels[i]), \"f1_score\" : f1_score(true_labels[i], predicted_labels[i], average=\"weighted\"), \"without_who\" : int(permutation[i])}, ignore_index=True)\n",
      "C:\\Users\\marco\\AppData\\Local\\Temp\\ipykernel_876\\322893607.py:6: FutureWarning: The frame.append method is deprecated and will be removed from pandas in a future version. Use pandas.concat instead.\n",
      "  metrics = metrics.append({\"accuracy\" : accuracy_score(true_labels[i], predicted_labels[i]), \"f1_score\" : f1_score(true_labels[i], predicted_labels[i], average=\"weighted\"), \"without_who\" : int(permutation[i])}, ignore_index=True)\n",
      "C:\\Users\\marco\\AppData\\Local\\Temp\\ipykernel_876\\322893607.py:6: FutureWarning: The frame.append method is deprecated and will be removed from pandas in a future version. Use pandas.concat instead.\n",
      "  metrics = metrics.append({\"accuracy\" : accuracy_score(true_labels[i], predicted_labels[i]), \"f1_score\" : f1_score(true_labels[i], predicted_labels[i], average=\"weighted\"), \"without_who\" : int(permutation[i])}, ignore_index=True)\n",
      "C:\\Users\\marco\\AppData\\Local\\Temp\\ipykernel_876\\322893607.py:6: FutureWarning: The frame.append method is deprecated and will be removed from pandas in a future version. Use pandas.concat instead.\n",
      "  metrics = metrics.append({\"accuracy\" : accuracy_score(true_labels[i], predicted_labels[i]), \"f1_score\" : f1_score(true_labels[i], predicted_labels[i], average=\"weighted\"), \"without_who\" : int(permutation[i])}, ignore_index=True)\n",
      "C:\\Users\\marco\\AppData\\Local\\Temp\\ipykernel_876\\322893607.py:6: FutureWarning: The frame.append method is deprecated and will be removed from pandas in a future version. Use pandas.concat instead.\n",
      "  metrics = metrics.append({\"accuracy\" : accuracy_score(true_labels[i], predicted_labels[i]), \"f1_score\" : f1_score(true_labels[i], predicted_labels[i], average=\"weighted\"), \"without_who\" : int(permutation[i])}, ignore_index=True)\n",
      "C:\\Users\\marco\\AppData\\Local\\Temp\\ipykernel_876\\322893607.py:6: FutureWarning: The frame.append method is deprecated and will be removed from pandas in a future version. Use pandas.concat instead.\n",
      "  metrics = metrics.append({\"accuracy\" : accuracy_score(true_labels[i], predicted_labels[i]), \"f1_score\" : f1_score(true_labels[i], predicted_labels[i], average=\"weighted\"), \"without_who\" : int(permutation[i])}, ignore_index=True)\n",
      "C:\\Users\\marco\\AppData\\Local\\Temp\\ipykernel_876\\322893607.py:6: FutureWarning: The frame.append method is deprecated and will be removed from pandas in a future version. Use pandas.concat instead.\n",
      "  metrics = metrics.append({\"accuracy\" : accuracy_score(true_labels[i], predicted_labels[i]), \"f1_score\" : f1_score(true_labels[i], predicted_labels[i], average=\"weighted\"), \"without_who\" : int(permutation[i])}, ignore_index=True)\n",
      "C:\\Users\\marco\\AppData\\Local\\Temp\\ipykernel_876\\322893607.py:6: FutureWarning: The frame.append method is deprecated and will be removed from pandas in a future version. Use pandas.concat instead.\n",
      "  metrics = metrics.append({\"accuracy\" : accuracy_score(true_labels[i], predicted_labels[i]), \"f1_score\" : f1_score(true_labels[i], predicted_labels[i], average=\"weighted\"), \"without_who\" : int(permutation[i])}, ignore_index=True)\n",
      "C:\\Users\\marco\\AppData\\Local\\Temp\\ipykernel_876\\322893607.py:6: FutureWarning: The frame.append method is deprecated and will be removed from pandas in a future version. Use pandas.concat instead.\n",
      "  metrics = metrics.append({\"accuracy\" : accuracy_score(true_labels[i], predicted_labels[i]), \"f1_score\" : f1_score(true_labels[i], predicted_labels[i], average=\"weighted\"), \"without_who\" : int(permutation[i])}, ignore_index=True)\n",
      "C:\\Users\\marco\\AppData\\Local\\Temp\\ipykernel_876\\322893607.py:6: FutureWarning: The frame.append method is deprecated and will be removed from pandas in a future version. Use pandas.concat instead.\n",
      "  metrics = metrics.append({\"accuracy\" : accuracy_score(true_labels[i], predicted_labels[i]), \"f1_score\" : f1_score(true_labels[i], predicted_labels[i], average=\"weighted\"), \"without_who\" : int(permutation[i])}, ignore_index=True)\n",
      "C:\\Users\\marco\\AppData\\Local\\Temp\\ipykernel_876\\322893607.py:6: FutureWarning: The frame.append method is deprecated and will be removed from pandas in a future version. Use pandas.concat instead.\n",
      "  metrics = metrics.append({\"accuracy\" : accuracy_score(true_labels[i], predicted_labels[i]), \"f1_score\" : f1_score(true_labels[i], predicted_labels[i], average=\"weighted\"), \"without_who\" : int(permutation[i])}, ignore_index=True)\n",
      "C:\\Users\\marco\\AppData\\Local\\Temp\\ipykernel_876\\322893607.py:6: FutureWarning: The frame.append method is deprecated and will be removed from pandas in a future version. Use pandas.concat instead.\n",
      "  metrics = metrics.append({\"accuracy\" : accuracy_score(true_labels[i], predicted_labels[i]), \"f1_score\" : f1_score(true_labels[i], predicted_labels[i], average=\"weighted\"), \"without_who\" : int(permutation[i])}, ignore_index=True)\n",
      "C:\\Users\\marco\\AppData\\Local\\Temp\\ipykernel_876\\322893607.py:6: FutureWarning: The frame.append method is deprecated and will be removed from pandas in a future version. Use pandas.concat instead.\n",
      "  metrics = metrics.append({\"accuracy\" : accuracy_score(true_labels[i], predicted_labels[i]), \"f1_score\" : f1_score(true_labels[i], predicted_labels[i], average=\"weighted\"), \"without_who\" : int(permutation[i])}, ignore_index=True)\n",
      "C:\\Users\\marco\\AppData\\Local\\Temp\\ipykernel_876\\322893607.py:6: FutureWarning: The frame.append method is deprecated and will be removed from pandas in a future version. Use pandas.concat instead.\n",
      "  metrics = metrics.append({\"accuracy\" : accuracy_score(true_labels[i], predicted_labels[i]), \"f1_score\" : f1_score(true_labels[i], predicted_labels[i], average=\"weighted\"), \"without_who\" : int(permutation[i])}, ignore_index=True)\n",
      "C:\\Users\\marco\\AppData\\Local\\Temp\\ipykernel_876\\322893607.py:6: FutureWarning: The frame.append method is deprecated and will be removed from pandas in a future version. Use pandas.concat instead.\n",
      "  metrics = metrics.append({\"accuracy\" : accuracy_score(true_labels[i], predicted_labels[i]), \"f1_score\" : f1_score(true_labels[i], predicted_labels[i], average=\"weighted\"), \"without_who\" : int(permutation[i])}, ignore_index=True)\n",
      "C:\\Users\\marco\\AppData\\Local\\Temp\\ipykernel_876\\322893607.py:6: FutureWarning: The frame.append method is deprecated and will be removed from pandas in a future version. Use pandas.concat instead.\n",
      "  metrics = metrics.append({\"accuracy\" : accuracy_score(true_labels[i], predicted_labels[i]), \"f1_score\" : f1_score(true_labels[i], predicted_labels[i], average=\"weighted\"), \"without_who\" : int(permutation[i])}, ignore_index=True)\n",
      "C:\\Users\\marco\\AppData\\Local\\Temp\\ipykernel_876\\322893607.py:6: FutureWarning: The frame.append method is deprecated and will be removed from pandas in a future version. Use pandas.concat instead.\n",
      "  metrics = metrics.append({\"accuracy\" : accuracy_score(true_labels[i], predicted_labels[i]), \"f1_score\" : f1_score(true_labels[i], predicted_labels[i], average=\"weighted\"), \"without_who\" : int(permutation[i])}, ignore_index=True)\n",
      "C:\\Users\\marco\\AppData\\Local\\Temp\\ipykernel_876\\322893607.py:6: FutureWarning: The frame.append method is deprecated and will be removed from pandas in a future version. Use pandas.concat instead.\n",
      "  metrics = metrics.append({\"accuracy\" : accuracy_score(true_labels[i], predicted_labels[i]), \"f1_score\" : f1_score(true_labels[i], predicted_labels[i], average=\"weighted\"), \"without_who\" : int(permutation[i])}, ignore_index=True)\n",
      "C:\\Users\\marco\\AppData\\Local\\Temp\\ipykernel_876\\322893607.py:6: FutureWarning: The frame.append method is deprecated and will be removed from pandas in a future version. Use pandas.concat instead.\n",
      "  metrics = metrics.append({\"accuracy\" : accuracy_score(true_labels[i], predicted_labels[i]), \"f1_score\" : f1_score(true_labels[i], predicted_labels[i], average=\"weighted\"), \"without_who\" : int(permutation[i])}, ignore_index=True)\n",
      "C:\\Users\\marco\\AppData\\Local\\Temp\\ipykernel_876\\322893607.py:6: FutureWarning: The frame.append method is deprecated and will be removed from pandas in a future version. Use pandas.concat instead.\n",
      "  metrics = metrics.append({\"accuracy\" : accuracy_score(true_labels[i], predicted_labels[i]), \"f1_score\" : f1_score(true_labels[i], predicted_labels[i], average=\"weighted\"), \"without_who\" : int(permutation[i])}, ignore_index=True)\n",
      "C:\\Users\\marco\\AppData\\Local\\Temp\\ipykernel_876\\322893607.py:6: FutureWarning: The frame.append method is deprecated and will be removed from pandas in a future version. Use pandas.concat instead.\n",
      "  metrics = metrics.append({\"accuracy\" : accuracy_score(true_labels[i], predicted_labels[i]), \"f1_score\" : f1_score(true_labels[i], predicted_labels[i], average=\"weighted\"), \"without_who\" : int(permutation[i])}, ignore_index=True)\n",
      "C:\\Users\\marco\\AppData\\Local\\Temp\\ipykernel_876\\322893607.py:6: FutureWarning: The frame.append method is deprecated and will be removed from pandas in a future version. Use pandas.concat instead.\n",
      "  metrics = metrics.append({\"accuracy\" : accuracy_score(true_labels[i], predicted_labels[i]), \"f1_score\" : f1_score(true_labels[i], predicted_labels[i], average=\"weighted\"), \"without_who\" : int(permutation[i])}, ignore_index=True)\n",
      "C:\\Users\\marco\\AppData\\Local\\Temp\\ipykernel_876\\322893607.py:6: FutureWarning: The frame.append method is deprecated and will be removed from pandas in a future version. Use pandas.concat instead.\n",
      "  metrics = metrics.append({\"accuracy\" : accuracy_score(true_labels[i], predicted_labels[i]), \"f1_score\" : f1_score(true_labels[i], predicted_labels[i], average=\"weighted\"), \"without_who\" : int(permutation[i])}, ignore_index=True)\n",
      "C:\\Users\\marco\\AppData\\Local\\Temp\\ipykernel_876\\322893607.py:6: FutureWarning: The frame.append method is deprecated and will be removed from pandas in a future version. Use pandas.concat instead.\n",
      "  metrics = metrics.append({\"accuracy\" : accuracy_score(true_labels[i], predicted_labels[i]), \"f1_score\" : f1_score(true_labels[i], predicted_labels[i], average=\"weighted\"), \"without_who\" : int(permutation[i])}, ignore_index=True)\n"
     ]
    },
    {
     "data": {
      "text/plain": "    accuracy  f1_score  without_who\n0   0.958991  0.957614         24.0\n1   0.991935  0.991940         11.0\n2   0.975904  0.974904         12.0\n3   0.910864  0.911003          9.0\n4   0.970430  0.970209         15.0\n5   0.909091  0.903350          4.0\n6   0.940845  0.939703         14.0\n7   0.940625  0.941427         13.0\n8   0.991354  0.991238         17.0\n9   0.983380  0.983498          6.0\n10  0.887728  0.885322          8.0\n11  0.685139  0.663817         18.0\n12  0.911917  0.910910          7.0\n13  0.836667  0.837467          5.0\n14  0.805252  0.818705         19.0\n15  0.760000  0.770006         10.0\n16  0.873853  0.879716         21.0\n17  0.954082  0.954438          1.0\n18  0.962025  0.959627          2.0\n19  0.930636  0.931582         20.0\n20  0.830409  0.826022         23.0\n21  0.891139  0.886875          3.0\n22  0.963855  0.964858         16.0\n23  0.974212  0.974416         22.0",
      "text/html": "<div>\n<style scoped>\n    .dataframe tbody tr th:only-of-type {\n        vertical-align: middle;\n    }\n\n    .dataframe tbody tr th {\n        vertical-align: top;\n    }\n\n    .dataframe thead th {\n        text-align: right;\n    }\n</style>\n<table border=\"1\" class=\"dataframe\">\n  <thead>\n    <tr style=\"text-align: right;\">\n      <th></th>\n      <th>accuracy</th>\n      <th>f1_score</th>\n      <th>without_who</th>\n    </tr>\n  </thead>\n  <tbody>\n    <tr>\n      <th>0</th>\n      <td>0.958991</td>\n      <td>0.957614</td>\n      <td>24.0</td>\n    </tr>\n    <tr>\n      <th>1</th>\n      <td>0.991935</td>\n      <td>0.991940</td>\n      <td>11.0</td>\n    </tr>\n    <tr>\n      <th>2</th>\n      <td>0.975904</td>\n      <td>0.974904</td>\n      <td>12.0</td>\n    </tr>\n    <tr>\n      <th>3</th>\n      <td>0.910864</td>\n      <td>0.911003</td>\n      <td>9.0</td>\n    </tr>\n    <tr>\n      <th>4</th>\n      <td>0.970430</td>\n      <td>0.970209</td>\n      <td>15.0</td>\n    </tr>\n    <tr>\n      <th>5</th>\n      <td>0.909091</td>\n      <td>0.903350</td>\n      <td>4.0</td>\n    </tr>\n    <tr>\n      <th>6</th>\n      <td>0.940845</td>\n      <td>0.939703</td>\n      <td>14.0</td>\n    </tr>\n    <tr>\n      <th>7</th>\n      <td>0.940625</td>\n      <td>0.941427</td>\n      <td>13.0</td>\n    </tr>\n    <tr>\n      <th>8</th>\n      <td>0.991354</td>\n      <td>0.991238</td>\n      <td>17.0</td>\n    </tr>\n    <tr>\n      <th>9</th>\n      <td>0.983380</td>\n      <td>0.983498</td>\n      <td>6.0</td>\n    </tr>\n    <tr>\n      <th>10</th>\n      <td>0.887728</td>\n      <td>0.885322</td>\n      <td>8.0</td>\n    </tr>\n    <tr>\n      <th>11</th>\n      <td>0.685139</td>\n      <td>0.663817</td>\n      <td>18.0</td>\n    </tr>\n    <tr>\n      <th>12</th>\n      <td>0.911917</td>\n      <td>0.910910</td>\n      <td>7.0</td>\n    </tr>\n    <tr>\n      <th>13</th>\n      <td>0.836667</td>\n      <td>0.837467</td>\n      <td>5.0</td>\n    </tr>\n    <tr>\n      <th>14</th>\n      <td>0.805252</td>\n      <td>0.818705</td>\n      <td>19.0</td>\n    </tr>\n    <tr>\n      <th>15</th>\n      <td>0.760000</td>\n      <td>0.770006</td>\n      <td>10.0</td>\n    </tr>\n    <tr>\n      <th>16</th>\n      <td>0.873853</td>\n      <td>0.879716</td>\n      <td>21.0</td>\n    </tr>\n    <tr>\n      <th>17</th>\n      <td>0.954082</td>\n      <td>0.954438</td>\n      <td>1.0</td>\n    </tr>\n    <tr>\n      <th>18</th>\n      <td>0.962025</td>\n      <td>0.959627</td>\n      <td>2.0</td>\n    </tr>\n    <tr>\n      <th>19</th>\n      <td>0.930636</td>\n      <td>0.931582</td>\n      <td>20.0</td>\n    </tr>\n    <tr>\n      <th>20</th>\n      <td>0.830409</td>\n      <td>0.826022</td>\n      <td>23.0</td>\n    </tr>\n    <tr>\n      <th>21</th>\n      <td>0.891139</td>\n      <td>0.886875</td>\n      <td>3.0</td>\n    </tr>\n    <tr>\n      <th>22</th>\n      <td>0.963855</td>\n      <td>0.964858</td>\n      <td>16.0</td>\n    </tr>\n    <tr>\n      <th>23</th>\n      <td>0.974212</td>\n      <td>0.974416</td>\n      <td>22.0</td>\n    </tr>\n  </tbody>\n</table>\n</div>"
     },
     "execution_count": 12,
     "metadata": {},
     "output_type": "execute_result"
    }
   ],
   "source": [
    "import seaborn as sns\n",
    "accuracies = []\n",
    "f1_scores = []\n",
    "metrics = pd.DataFrame(columns=[\"accuracy\", \"f1_score\", \"without_who\"])\n",
    "for i in range(0,len(true_labels)):\n",
    "    metrics = metrics.append({\"accuracy\" : accuracy_score(true_labels[i], predicted_labels[i]), \"f1_score\" : f1_score(true_labels[i], predicted_labels[i], average=\"weighted\"), \"without_who\" : int(permutation[i])}, ignore_index=True)\n",
    "metrics"
   ],
   "metadata": {
    "collapsed": false
   }
  },
  {
   "cell_type": "code",
   "execution_count": 13,
   "outputs": [],
   "source": [
    "metrics[\"without_who\"] = metrics[\"without_who\"].astype(int)"
   ],
   "metadata": {
    "collapsed": false
   }
  },
  {
   "cell_type": "code",
   "execution_count": 14,
   "outputs": [
    {
     "data": {
      "text/plain": "<AxesSubplot:xlabel='without_who', ylabel='accuracy'>"
     },
     "execution_count": 14,
     "metadata": {},
     "output_type": "execute_result"
    },
    {
     "data": {
      "text/plain": "<Figure size 640x480 with 1 Axes>",
      "image/png": "[encoded data removed]"
     },
     "metadata": {},
     "output_type": "display_data"
    }
   ],
   "source": [
    "import seaborn as sns\n",
    "sns.barplot(data=metrics, x=\"without_who\", y=\"accuracy\")"
   ],
   "metadata": {
    "collapsed": false
   }
  },
  {
   "cell_type": "code",
   "execution_count": 15,
   "outputs": [
    {
     "data": {
      "text/plain": "<AxesSubplot:xlabel='without_who', ylabel='f1_score'>"
     },
     "execution_count": 15,
     "metadata": {},
     "output_type": "execute_result"
    },
    {
     "data": {
      "text/plain": "<Figure size 640x480 with 1 Axes>",
      "image/png": "[encoded data removed]"
     },
     "metadata": {},
     "output_type": "display_data"
    }
   ],
   "source": [
    "sns.barplot(data=metrics, x=\"without_who\", y=\"f1_score\")"
   ],
   "metadata": {
    "collapsed": false
   }
  },
  {
   "cell_type": "code",
   "execution_count": 16,
   "outputs": [
    {
     "data": {
      "text/plain": "(0.9100138606680511, 0.9095269807546656)"
     },
     "execution_count": 16,
     "metadata": {},
     "output_type": "execute_result"
    }
   ],
   "source": [
    "metrics[\"accuracy\"].mean(), metrics[\"f1_score\"].mean()"
   ],
   "metadata": {
    "collapsed": false
   }
  },
  {
   "cell_type": "markdown",
   "source": [
    "#### Conclusions\n",
    "As we can see, the same classifier with the same parameters for all elements in the pipeline show different results. We drop from a really optmistic accuracy of 92-93% to one of 84-85%.\n",
    "In particular, we have cases in which accuracy drops \"drastically\". For example, testing on subject 18, accuracy drops below 70%."
   ],
   "metadata": {
    "collapsed": false
   }
  },
  {
   "cell_type": "code",
   "execution_count": 17,
   "outputs": [],
   "source": [
    "from sklearn.metrics import ConfusionMatrixDisplay"
   ],
   "metadata": {
    "collapsed": false
   }
  },
  {
   "cell_type": "code",
   "execution_count": 18,
   "outputs": [
    {
     "name": "stdout",
     "output_type": "stream",
     "text": [
      "Accuracy Score testing on subject 24 : 0.9589905362776026\n"
     ]
    },
    {
     "data": {
      "text/plain": "<sklearn.metrics._plot.confusion_matrix.ConfusionMatrixDisplay at 0x23db33f7cd0>"
     },
     "execution_count": 18,
     "metadata": {},
     "output_type": "execute_result"
    },
    {
     "data": {
      "text/plain": "<Figure size 640x480 with 2 Axes>",
      "image/png": "[encoded data removed]"
     },
     "metadata": {},
     "output_type": "display_data"
    }
   ],
   "source": [
    "index = metrics.loc[metrics[\"without_who\"] == 24].index\n",
    "print(f'Accuracy Score testing on subject 24 : {accuracy_score(true_labels[index[0]], predicted_labels[index[0]])}')\n",
    "ConfusionMatrixDisplay.from_predictions(true_labels[index[0]], predicted_labels[index[0]], cmap=\"Blues\")"
   ],
   "metadata": {
    "collapsed": false
   }
  },
  {
   "cell_type": "markdown",
   "source": [
    "**Subject 24 is an interesting case in which the mislabeled activity is going upstairs**. No other subjects have this number of poor accuracy on this activity, that is usually well separated from other types of activity.\n",
    "Reading about the experiment, we noticed that subject 24 was the youngest (18 years). Maybe as a young teenager runs while going up or downstairs?"
   ],
   "metadata": {
    "collapsed": false
   }
  }
 ],
 "metadata": {
  "kernelspec": {
   "display_name": "Python 3",
   "language": "python",
   "name": "python3"
  },
  "language_info": {
   "codemirror_mode": {
    "name": "ipython",
    "version": 2
   },
   "file_extension": ".py",
   "mimetype": "text/x-python",
   "name": "python",
   "nbconvert_exporter": "python",
   "pygments_lexer": "ipython2",
   "version": "2.7.6"
  }
 },
 "nbformat": 4,
 "nbformat_minor": 0
}
