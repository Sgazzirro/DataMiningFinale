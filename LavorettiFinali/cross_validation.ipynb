{
 "cells": [
  {
   "cell_type": "code",
   "execution_count": 1,
   "metadata": {
    "collapsed": true
   },
   "outputs": [],
   "source": [
    "import sys\n",
    "sys.path.append(\"creation_functions\")"
   ]
  },
  {
   "cell_type": "markdown",
   "source": [
    "### Notebook Goals\n",
    "- Try to understand how to implement a \"leave-one-out\" technique based on subjects\n",
    "- Test and compare a classifier performance without this custom cross validation and the normal shuffling"
   ],
   "metadata": {
    "collapsed": false
   }
  },
  {
   "cell_type": "code",
   "execution_count": 2,
   "outputs": [],
   "source": [
    "from creation_functions.utilities import preprocessing\n",
    "import pandas as pd\n",
    "import numpy as np"
   ],
   "metadata": {
    "collapsed": false
   }
  },
  {
   "cell_type": "code",
   "execution_count": 3,
   "outputs": [],
   "source": [
    "prepr_dataset = preprocessing(pd.read_csv(\"collapsed_dataset.csv\", index_col=0))\n",
    "prepr_dataset = prepr_dataset.sample(frac=1)"
   ],
   "metadata": {
    "collapsed": false
   }
  },
  {
   "cell_type": "code",
   "execution_count": 4,
   "outputs": [],
   "source": [
    "from imblearn.over_sampling import SMOTE\n",
    "from imblearn.pipeline import Pipeline\n",
    "from sklearn.preprocessing import RobustScaler\n",
    "from sklearn.feature_selection import SelectKBest\n",
    "from sklearn.metrics import accuracy_score, f1_score, make_scorer\n",
    "from sklearn.model_selection import cross_validate, KFold\n",
    "from sklearn.ensemble import RandomForestClassifier\n"
   ],
   "metadata": {
    "collapsed": false
   }
  },
  {
   "cell_type": "code",
   "execution_count": 5,
   "outputs": [],
   "source": [
    "def get_a_split(dataframe, who_to_leave_out):\n",
    "    train_data = dataframe.loc[dataframe[\"subject\"] != who_to_leave_out]\n",
    "    test_data = dataframe.loc[dataframe[\"subject\"] == who_to_leave_out]\n",
    "    train_labels = train_data[\"class\"]\n",
    "    test_labels = test_data[\"class\"]\n",
    "    train_data = train_data.drop([\"class\", \"subject\", \"trial\"], axis=1)\n",
    "    test_data = test_data.drop([\"class\", \"subject\", \"trial\"], axis=1)\n",
    "    return train_data, test_data, train_labels, test_labels"
   ],
   "metadata": {
    "collapsed": false
   }
  },
  {
   "cell_type": "code",
   "execution_count": 6,
   "outputs": [],
   "source": [
    "def custom_cross_validation(dataframe, classifier):\n",
    "    a = range(1, 25)\n",
    "    permutation = np.random.permutation(a)\n",
    "    y_pred = []\n",
    "    y_true = []\n",
    "    for i in permutation:\n",
    "        X_train, X_test, y_train, y_test = get_a_split(dataframe,i)\n",
    "        y_true.append(y_test)\n",
    "        classifier.fit(X_train, y_train)\n",
    "        y_pred.append(classifier.predict(X_test))\n",
    "    return permutation, y_true, y_pred"
   ],
   "metadata": {
    "collapsed": false
   }
  },
  {
   "cell_type": "code",
   "execution_count": 7,
   "outputs": [],
   "source": [
    "steps = [\n",
    "    (\"scaler\", RobustScaler()),\n",
    "    (\"sampler\", SMOTE()),\n",
    "    (\"selection\", SelectKBest(k=20)),\n",
    "    (\"classification\", RandomForestClassifier())\n",
    "]\n",
    "pipeline = Pipeline(steps)"
   ],
   "metadata": {
    "collapsed": false
   }
  },
  {
   "cell_type": "code",
   "execution_count": 8,
   "outputs": [],
   "source": [
    "results = cross_validate(\n",
    "    pipeline,\n",
    "    prepr_dataset.drop([\"class\", \"trial\", \"subject\"], axis=1),\n",
    "    prepr_dataset[\"class\"],\n",
    "    cv = KFold(shuffle=True, random_state=15, n_splits=10),\n",
    "    scoring={\n",
    "        \"accuracy\" : make_scorer(accuracy_score),\n",
    "        \"f1-score\" : make_scorer(f1_score, average=\"weighted\")\n",
    "    },\n",
    "    return_estimator=True\n",
    ")"
   ],
   "metadata": {
    "collapsed": false
   }
  },
  {
   "cell_type": "code",
   "execution_count": 9,
   "outputs": [
    {
     "name": "stdout",
     "output_type": "stream",
     "text": [
      "Mean Accuracy with normal Cross Validation: 0.922077132035046\n"
     ]
    }
   ],
   "source": [
    "print(f'Mean Accuracy with normal Cross Validation: {results[\"test_accuracy\"].mean()}')"
   ],
   "metadata": {
    "collapsed": false
   }
  },
  {
   "cell_type": "code",
   "execution_count": 10,
   "outputs": [
    {
     "name": "stdout",
     "output_type": "stream",
     "text": [
      "Mean f1-score with normal Cross Validation: 0.9219124430043945\n"
     ]
    }
   ],
   "source": [
    "print(f'Mean f1-score with normal Cross Validation: {results[\"test_f1-score\"].mean()}')"
   ],
   "metadata": {
    "collapsed": false
   }
  },
  {
   "cell_type": "markdown",
   "source": [
    "In this type of applications it could be more appropriate to split the dataset on \"subjects\" instead of considering instances as independent from each other. Even if the accuracy in this way appears to be really high (over 92% with just < 30% of the total number of features), we are allowing to have a strange combination of events: a subject can be considered both in train and in test set. That means that we have a risk of overfitting, because the model could just \"see\" all subjects in advance and \"overtrain\" on all of them."
   ],
   "metadata": {
    "collapsed": false
   }
  },
  {
   "cell_type": "markdown",
   "source": [
    "In the following cells, we try to discover if keeping apart an entire subject affects the accuracy of the classifier."
   ],
   "metadata": {
    "collapsed": false
   }
  },
  {
   "cell_type": "code",
   "execution_count": 11,
   "outputs": [],
   "source": [
    "permutation, true_labels, predicted_labels = custom_cross_validation(prepr_dataset, pipeline)"
   ],
   "metadata": {
    "collapsed": false
   }
  },
  {
   "cell_type": "code",
   "execution_count": 12,
   "outputs": [
    {
     "name": "stderr",
     "output_type": "stream",
     "text": [
      "C:\\Users\\angel\\AppData\\Local\\Temp\\ipykernel_17176\\322893607.py:6: FutureWarning: The frame.append method is deprecated and will be removed from pandas in a future version. Use pandas.concat instead.\n",
      "  metrics = metrics.append({\"accuracy\" : accuracy_score(true_labels[i], predicted_labels[i]), \"f1_score\" : f1_score(true_labels[i], predicted_labels[i], average=\"weighted\"), \"without_who\" : int(permutation[i])}, ignore_index=True)\n",
      "C:\\Users\\angel\\AppData\\Local\\Temp\\ipykernel_17176\\322893607.py:6: FutureWarning: The frame.append method is deprecated and will be removed from pandas in a future version. Use pandas.concat instead.\n",
      "  metrics = metrics.append({\"accuracy\" : accuracy_score(true_labels[i], predicted_labels[i]), \"f1_score\" : f1_score(true_labels[i], predicted_labels[i], average=\"weighted\"), \"without_who\" : int(permutation[i])}, ignore_index=True)\n",
      "C:\\Users\\angel\\AppData\\Local\\Temp\\ipykernel_17176\\322893607.py:6: FutureWarning: The frame.append method is deprecated and will be removed from pandas in a future version. Use pandas.concat instead.\n",
      "  metrics = metrics.append({\"accuracy\" : accuracy_score(true_labels[i], predicted_labels[i]), \"f1_score\" : f1_score(true_labels[i], predicted_labels[i], average=\"weighted\"), \"without_who\" : int(permutation[i])}, ignore_index=True)\n",
      "C:\\Users\\angel\\AppData\\Local\\Temp\\ipykernel_17176\\322893607.py:6: FutureWarning: The frame.append method is deprecated and will be removed from pandas in a future version. Use pandas.concat instead.\n",
      "  metrics = metrics.append({\"accuracy\" : accuracy_score(true_labels[i], predicted_labels[i]), \"f1_score\" : f1_score(true_labels[i], predicted_labels[i], average=\"weighted\"), \"without_who\" : int(permutation[i])}, ignore_index=True)\n",
      "C:\\Users\\angel\\AppData\\Local\\Temp\\ipykernel_17176\\322893607.py:6: FutureWarning: The frame.append method is deprecated and will be removed from pandas in a future version. Use pandas.concat instead.\n",
      "  metrics = metrics.append({\"accuracy\" : accuracy_score(true_labels[i], predicted_labels[i]), \"f1_score\" : f1_score(true_labels[i], predicted_labels[i], average=\"weighted\"), \"without_who\" : int(permutation[i])}, ignore_index=True)\n",
      "C:\\Users\\angel\\AppData\\Local\\Temp\\ipykernel_17176\\322893607.py:6: FutureWarning: The frame.append method is deprecated and will be removed from pandas in a future version. Use pandas.concat instead.\n",
      "  metrics = metrics.append({\"accuracy\" : accuracy_score(true_labels[i], predicted_labels[i]), \"f1_score\" : f1_score(true_labels[i], predicted_labels[i], average=\"weighted\"), \"without_who\" : int(permutation[i])}, ignore_index=True)\n",
      "C:\\Users\\angel\\AppData\\Local\\Temp\\ipykernel_17176\\322893607.py:6: FutureWarning: The frame.append method is deprecated and will be removed from pandas in a future version. Use pandas.concat instead.\n",
      "  metrics = metrics.append({\"accuracy\" : accuracy_score(true_labels[i], predicted_labels[i]), \"f1_score\" : f1_score(true_labels[i], predicted_labels[i], average=\"weighted\"), \"without_who\" : int(permutation[i])}, ignore_index=True)\n",
      "C:\\Users\\angel\\AppData\\Local\\Temp\\ipykernel_17176\\322893607.py:6: FutureWarning: The frame.append method is deprecated and will be removed from pandas in a future version. Use pandas.concat instead.\n",
      "  metrics = metrics.append({\"accuracy\" : accuracy_score(true_labels[i], predicted_labels[i]), \"f1_score\" : f1_score(true_labels[i], predicted_labels[i], average=\"weighted\"), \"without_who\" : int(permutation[i])}, ignore_index=True)\n",
      "C:\\Users\\angel\\AppData\\Local\\Temp\\ipykernel_17176\\322893607.py:6: FutureWarning: The frame.append method is deprecated and will be removed from pandas in a future version. Use pandas.concat instead.\n",
      "  metrics = metrics.append({\"accuracy\" : accuracy_score(true_labels[i], predicted_labels[i]), \"f1_score\" : f1_score(true_labels[i], predicted_labels[i], average=\"weighted\"), \"without_who\" : int(permutation[i])}, ignore_index=True)\n",
      "C:\\Users\\angel\\AppData\\Local\\Temp\\ipykernel_17176\\322893607.py:6: FutureWarning: The frame.append method is deprecated and will be removed from pandas in a future version. Use pandas.concat instead.\n",
      "  metrics = metrics.append({\"accuracy\" : accuracy_score(true_labels[i], predicted_labels[i]), \"f1_score\" : f1_score(true_labels[i], predicted_labels[i], average=\"weighted\"), \"without_who\" : int(permutation[i])}, ignore_index=True)\n",
      "C:\\Users\\angel\\AppData\\Local\\Temp\\ipykernel_17176\\322893607.py:6: FutureWarning: The frame.append method is deprecated and will be removed from pandas in a future version. Use pandas.concat instead.\n",
      "  metrics = metrics.append({\"accuracy\" : accuracy_score(true_labels[i], predicted_labels[i]), \"f1_score\" : f1_score(true_labels[i], predicted_labels[i], average=\"weighted\"), \"without_who\" : int(permutation[i])}, ignore_index=True)\n",
      "C:\\Users\\angel\\AppData\\Local\\Temp\\ipykernel_17176\\322893607.py:6: FutureWarning: The frame.append method is deprecated and will be removed from pandas in a future version. Use pandas.concat instead.\n",
      "  metrics = metrics.append({\"accuracy\" : accuracy_score(true_labels[i], predicted_labels[i]), \"f1_score\" : f1_score(true_labels[i], predicted_labels[i], average=\"weighted\"), \"without_who\" : int(permutation[i])}, ignore_index=True)\n",
      "C:\\Users\\angel\\AppData\\Local\\Temp\\ipykernel_17176\\322893607.py:6: FutureWarning: The frame.append method is deprecated and will be removed from pandas in a future version. Use pandas.concat instead.\n",
      "  metrics = metrics.append({\"accuracy\" : accuracy_score(true_labels[i], predicted_labels[i]), \"f1_score\" : f1_score(true_labels[i], predicted_labels[i], average=\"weighted\"), \"without_who\" : int(permutation[i])}, ignore_index=True)\n",
      "C:\\Users\\angel\\AppData\\Local\\Temp\\ipykernel_17176\\322893607.py:6: FutureWarning: The frame.append method is deprecated and will be removed from pandas in a future version. Use pandas.concat instead.\n",
      "  metrics = metrics.append({\"accuracy\" : accuracy_score(true_labels[i], predicted_labels[i]), \"f1_score\" : f1_score(true_labels[i], predicted_labels[i], average=\"weighted\"), \"without_who\" : int(permutation[i])}, ignore_index=True)\n",
      "C:\\Users\\angel\\AppData\\Local\\Temp\\ipykernel_17176\\322893607.py:6: FutureWarning: The frame.append method is deprecated and will be removed from pandas in a future version. Use pandas.concat instead.\n",
      "  metrics = metrics.append({\"accuracy\" : accuracy_score(true_labels[i], predicted_labels[i]), \"f1_score\" : f1_score(true_labels[i], predicted_labels[i], average=\"weighted\"), \"without_who\" : int(permutation[i])}, ignore_index=True)\n",
      "C:\\Users\\angel\\AppData\\Local\\Temp\\ipykernel_17176\\322893607.py:6: FutureWarning: The frame.append method is deprecated and will be removed from pandas in a future version. Use pandas.concat instead.\n",
      "  metrics = metrics.append({\"accuracy\" : accuracy_score(true_labels[i], predicted_labels[i]), \"f1_score\" : f1_score(true_labels[i], predicted_labels[i], average=\"weighted\"), \"without_who\" : int(permutation[i])}, ignore_index=True)\n",
      "C:\\Users\\angel\\AppData\\Local\\Temp\\ipykernel_17176\\322893607.py:6: FutureWarning: The frame.append method is deprecated and will be removed from pandas in a future version. Use pandas.concat instead.\n",
      "  metrics = metrics.append({\"accuracy\" : accuracy_score(true_labels[i], predicted_labels[i]), \"f1_score\" : f1_score(true_labels[i], predicted_labels[i], average=\"weighted\"), \"without_who\" : int(permutation[i])}, ignore_index=True)\n",
      "C:\\Users\\angel\\AppData\\Local\\Temp\\ipykernel_17176\\322893607.py:6: FutureWarning: The frame.append method is deprecated and will be removed from pandas in a future version. Use pandas.concat instead.\n",
      "  metrics = metrics.append({\"accuracy\" : accuracy_score(true_labels[i], predicted_labels[i]), \"f1_score\" : f1_score(true_labels[i], predicted_labels[i], average=\"weighted\"), \"without_who\" : int(permutation[i])}, ignore_index=True)\n",
      "C:\\Users\\angel\\AppData\\Local\\Temp\\ipykernel_17176\\322893607.py:6: FutureWarning: The frame.append method is deprecated and will be removed from pandas in a future version. Use pandas.concat instead.\n",
      "  metrics = metrics.append({\"accuracy\" : accuracy_score(true_labels[i], predicted_labels[i]), \"f1_score\" : f1_score(true_labels[i], predicted_labels[i], average=\"weighted\"), \"without_who\" : int(permutation[i])}, ignore_index=True)\n",
      "C:\\Users\\angel\\AppData\\Local\\Temp\\ipykernel_17176\\322893607.py:6: FutureWarning: The frame.append method is deprecated and will be removed from pandas in a future version. Use pandas.concat instead.\n",
      "  metrics = metrics.append({\"accuracy\" : accuracy_score(true_labels[i], predicted_labels[i]), \"f1_score\" : f1_score(true_labels[i], predicted_labels[i], average=\"weighted\"), \"without_who\" : int(permutation[i])}, ignore_index=True)\n",
      "C:\\Users\\angel\\AppData\\Local\\Temp\\ipykernel_17176\\322893607.py:6: FutureWarning: The frame.append method is deprecated and will be removed from pandas in a future version. Use pandas.concat instead.\n",
      "  metrics = metrics.append({\"accuracy\" : accuracy_score(true_labels[i], predicted_labels[i]), \"f1_score\" : f1_score(true_labels[i], predicted_labels[i], average=\"weighted\"), \"without_who\" : int(permutation[i])}, ignore_index=True)\n",
      "C:\\Users\\angel\\AppData\\Local\\Temp\\ipykernel_17176\\322893607.py:6: FutureWarning: The frame.append method is deprecated and will be removed from pandas in a future version. Use pandas.concat instead.\n",
      "  metrics = metrics.append({\"accuracy\" : accuracy_score(true_labels[i], predicted_labels[i]), \"f1_score\" : f1_score(true_labels[i], predicted_labels[i], average=\"weighted\"), \"without_who\" : int(permutation[i])}, ignore_index=True)\n",
      "C:\\Users\\angel\\AppData\\Local\\Temp\\ipykernel_17176\\322893607.py:6: FutureWarning: The frame.append method is deprecated and will be removed from pandas in a future version. Use pandas.concat instead.\n",
      "  metrics = metrics.append({\"accuracy\" : accuracy_score(true_labels[i], predicted_labels[i]), \"f1_score\" : f1_score(true_labels[i], predicted_labels[i], average=\"weighted\"), \"without_who\" : int(permutation[i])}, ignore_index=True)\n",
      "C:\\Users\\angel\\AppData\\Local\\Temp\\ipykernel_17176\\322893607.py:6: FutureWarning: The frame.append method is deprecated and will be removed from pandas in a future version. Use pandas.concat instead.\n",
      "  metrics = metrics.append({\"accuracy\" : accuracy_score(true_labels[i], predicted_labels[i]), \"f1_score\" : f1_score(true_labels[i], predicted_labels[i], average=\"weighted\"), \"without_who\" : int(permutation[i])}, ignore_index=True)\n"
     ]
    },
    {
     "data": {
      "text/plain": "    accuracy  f1_score  without_who\n0   0.917981  0.913993         24.0\n1   0.916898  0.915653          6.0\n2   0.754667  0.773183         10.0\n3   0.904145  0.907068          7.0\n4   0.741794  0.745468         19.0\n5   0.772727  0.758050          4.0\n6   0.830084  0.844082          9.0\n7   0.692982  0.631134         23.0\n8   0.781250  0.782092         13.0\n9   0.841837  0.840755          1.0\n10  0.887324  0.884452         14.0\n11  0.809633  0.814653         21.0\n12  0.702771  0.683024         18.0\n13  0.893333  0.897084          5.0\n14  0.919355  0.917972         11.0\n15  0.809639  0.806951         16.0\n16  0.933718  0.930756         17.0\n17  0.921519  0.916196          2.0\n18  0.881013  0.866995          3.0\n19  0.870968  0.863100         15.0\n20  0.861619  0.850605          8.0\n21  0.835260  0.836829         20.0\n22  0.836676  0.831298         22.0\n23  0.918675  0.912029         12.0",
      "text/html": "<div>\n<style scoped>\n    .dataframe tbody tr th:only-of-type {\n        vertical-align: middle;\n    }\n\n    .dataframe tbody tr th {\n        vertical-align: top;\n    }\n\n    .dataframe thead th {\n        text-align: right;\n    }\n</style>\n<table border=\"1\" class=\"dataframe\">\n  <thead>\n    <tr style=\"text-align: right;\">\n      <th></th>\n      <th>accuracy</th>\n      <th>f1_score</th>\n      <th>without_who</th>\n    </tr>\n  </thead>\n  <tbody>\n    <tr>\n      <th>0</th>\n      <td>0.917981</td>\n      <td>0.913993</td>\n      <td>24.0</td>\n    </tr>\n    <tr>\n      <th>1</th>\n      <td>0.916898</td>\n      <td>0.915653</td>\n      <td>6.0</td>\n    </tr>\n    <tr>\n      <th>2</th>\n      <td>0.754667</td>\n      <td>0.773183</td>\n      <td>10.0</td>\n    </tr>\n    <tr>\n      <th>3</th>\n      <td>0.904145</td>\n      <td>0.907068</td>\n      <td>7.0</td>\n    </tr>\n    <tr>\n      <th>4</th>\n      <td>0.741794</td>\n      <td>0.745468</td>\n      <td>19.0</td>\n    </tr>\n    <tr>\n      <th>5</th>\n      <td>0.772727</td>\n      <td>0.758050</td>\n      <td>4.0</td>\n    </tr>\n    <tr>\n      <th>6</th>\n      <td>0.830084</td>\n      <td>0.844082</td>\n      <td>9.0</td>\n    </tr>\n    <tr>\n      <th>7</th>\n      <td>0.692982</td>\n      <td>0.631134</td>\n      <td>23.0</td>\n    </tr>\n    <tr>\n      <th>8</th>\n      <td>0.781250</td>\n      <td>0.782092</td>\n      <td>13.0</td>\n    </tr>\n    <tr>\n      <th>9</th>\n      <td>0.841837</td>\n      <td>0.840755</td>\n      <td>1.0</td>\n    </tr>\n    <tr>\n      <th>10</th>\n      <td>0.887324</td>\n      <td>0.884452</td>\n      <td>14.0</td>\n    </tr>\n    <tr>\n      <th>11</th>\n      <td>0.809633</td>\n      <td>0.814653</td>\n      <td>21.0</td>\n    </tr>\n    <tr>\n      <th>12</th>\n      <td>0.702771</td>\n      <td>0.683024</td>\n      <td>18.0</td>\n    </tr>\n    <tr>\n      <th>13</th>\n      <td>0.893333</td>\n      <td>0.897084</td>\n      <td>5.0</td>\n    </tr>\n    <tr>\n      <th>14</th>\n      <td>0.919355</td>\n      <td>0.917972</td>\n      <td>11.0</td>\n    </tr>\n    <tr>\n      <th>15</th>\n      <td>0.809639</td>\n      <td>0.806951</td>\n      <td>16.0</td>\n    </tr>\n    <tr>\n      <th>16</th>\n      <td>0.933718</td>\n      <td>0.930756</td>\n      <td>17.0</td>\n    </tr>\n    <tr>\n      <th>17</th>\n      <td>0.921519</td>\n      <td>0.916196</td>\n      <td>2.0</td>\n    </tr>\n    <tr>\n      <th>18</th>\n      <td>0.881013</td>\n      <td>0.866995</td>\n      <td>3.0</td>\n    </tr>\n    <tr>\n      <th>19</th>\n      <td>0.870968</td>\n      <td>0.863100</td>\n      <td>15.0</td>\n    </tr>\n    <tr>\n      <th>20</th>\n      <td>0.861619</td>\n      <td>0.850605</td>\n      <td>8.0</td>\n    </tr>\n    <tr>\n      <th>21</th>\n      <td>0.835260</td>\n      <td>0.836829</td>\n      <td>20.0</td>\n    </tr>\n    <tr>\n      <th>22</th>\n      <td>0.836676</td>\n      <td>0.831298</td>\n      <td>22.0</td>\n    </tr>\n    <tr>\n      <th>23</th>\n      <td>0.918675</td>\n      <td>0.912029</td>\n      <td>12.0</td>\n    </tr>\n  </tbody>\n</table>\n</div>"
     },
     "execution_count": 12,
     "metadata": {},
     "output_type": "execute_result"
    }
   ],
   "source": [
    "import seaborn as sns\n",
    "accuracies = []\n",
    "f1_scores = []\n",
    "metrics = pd.DataFrame(columns=[\"accuracy\", \"f1_score\", \"without_who\"])\n",
    "for i in range(0,len(true_labels)):\n",
    "    metrics = metrics.append({\"accuracy\" : accuracy_score(true_labels[i], predicted_labels[i]), \"f1_score\" : f1_score(true_labels[i], predicted_labels[i], average=\"weighted\"), \"without_who\" : int(permutation[i])}, ignore_index=True)\n",
    "metrics"
   ],
   "metadata": {
    "collapsed": false
   }
  },
  {
   "cell_type": "code",
   "execution_count": 13,
   "outputs": [],
   "source": [
    "metrics[\"without_who\"] = metrics[\"without_who\"].astype(int)"
   ],
   "metadata": {
    "collapsed": false
   }
  },
  {
   "cell_type": "code",
   "execution_count": 14,
   "outputs": [
    {
     "data": {
      "text/plain": "<AxesSubplot: xlabel='without_who', ylabel='accuracy'>"
     },
     "execution_count": 14,
     "metadata": {},
     "output_type": "execute_result"
    },
    {
     "data": {
      "text/plain": "<Figure size 640x480 with 1 Axes>",
      "image/png": "[encoded data removed]"
     },
     "metadata": {},
     "output_type": "display_data"
    }
   ],
   "source": [
    "import seaborn as sns\n",
    "sns.barplot(data=metrics, x=\"without_who\", y=\"accuracy\")"
   ],
   "metadata": {
    "collapsed": false
   }
  },
  {
   "cell_type": "code",
   "execution_count": 15,
   "outputs": [
    {
     "data": {
      "text/plain": "<AxesSubplot: xlabel='without_who', ylabel='f1_score'>"
     },
     "execution_count": 15,
     "metadata": {},
     "output_type": "execute_result"
    },
    {
     "data": {
      "text/plain": "<Figure size 640x480 with 1 Axes>",
      "image/png": "[encoded data removed]"
     },
     "metadata": {},
     "output_type": "display_data"
    }
   ],
   "source": [
    "sns.barplot(data=metrics, x=\"without_who\", y=\"f1_score\")"
   ],
   "metadata": {
    "collapsed": false
   }
  },
  {
   "cell_type": "code",
   "execution_count": 16,
   "outputs": [
    {
     "data": {
      "text/plain": "(0.8431610808245958, 0.8384759701653617)"
     },
     "execution_count": 16,
     "metadata": {},
     "output_type": "execute_result"
    }
   ],
   "source": [
    "metrics[\"accuracy\"].mean(), metrics[\"f1_score\"].mean()"
   ],
   "metadata": {
    "collapsed": false
   }
  },
  {
   "cell_type": "markdown",
   "source": [
    "#### Conclusions\n",
    "As we can see, the same classifier with the same parameters for all elements in the pipeline show different results. We drop from a really optmistic accuracy of 92-93% to one of 84-85%.\n",
    "In particular, we have cases in which accuracy drops \"drastically\". For example, testing on subject 18, accuracy drops below 70%."
   ],
   "metadata": {
    "collapsed": false
   }
  },
  {
   "cell_type": "code",
   "execution_count": 17,
   "outputs": [],
   "source": [
    "from sklearn.metrics import ConfusionMatrixDisplay"
   ],
   "metadata": {
    "collapsed": false
   }
  },
  {
   "cell_type": "code",
   "execution_count": 18,
   "outputs": [
    {
     "name": "stdout",
     "output_type": "stream",
     "text": [
      "Accuracy Score testing on subject 24 : 0.917981072555205\n"
     ]
    },
    {
     "data": {
      "text/plain": "<sklearn.metrics._plot.confusion_matrix.ConfusionMatrixDisplay at 0x1e9a1a3a4a0>"
     },
     "execution_count": 18,
     "metadata": {},
     "output_type": "execute_result"
    },
    {
     "data": {
      "text/plain": "<Figure size 640x480 with 2 Axes>",
      "image/png": "[encoded data removed]"
     },
     "metadata": {},
     "output_type": "display_data"
    }
   ],
   "source": [
    "index = metrics.loc[metrics[\"without_who\"] == 24].index\n",
    "print(f'Accuracy Score testing on subject 24 : {accuracy_score(true_labels[index[0]], predicted_labels[index[0]])}')\n",
    "ConfusionMatrixDisplay.from_predictions(true_labels[index[0]], predicted_labels[index[0]], cmap=\"Blues\")"
   ],
   "metadata": {
    "collapsed": false
   }
  },
  {
   "cell_type": "markdown",
   "source": [
    "**Subject 24 is an interesting case in which the mislabeled activity is jogging**. No other subjects have this number of poor accuracy on this activity, that is usually well separated from other types of activity.\n",
    "Reading about the experiment, we noticed that subject 24 was the youngest (18 years). Maybe as a young teenager runs while going up or downstairs?"
   ],
   "metadata": {
    "collapsed": false
   }
  }
 ],
 "metadata": {
  "kernelspec": {
   "display_name": "Python 3",
   "language": "python",
   "name": "python3"
  },
  "language_info": {
   "codemirror_mode": {
    "name": "ipython",
    "version": 2
   },
   "file_extension": ".py",
   "mimetype": "text/x-python",
   "name": "python",
   "nbconvert_exporter": "python",
   "pygments_lexer": "ipython2",
   "version": "2.7.6"
  }
 },
 "nbformat": 4,
 "nbformat_minor": 0
}
